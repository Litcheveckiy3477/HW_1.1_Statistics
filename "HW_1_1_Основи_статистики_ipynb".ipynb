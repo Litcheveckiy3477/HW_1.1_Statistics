{
  "nbformat": 4,
  "nbformat_minor": 0,
  "metadata": {
    "colab": {
      "provenance": []
    },
    "kernelspec": {
      "name": "python3",
      "display_name": "Python 3"
    },
    "language_info": {
      "name": "python"
    }
  },
  "cells": [
    {
      "cell_type": "markdown",
      "source": [
        "В цьому домашньому завданні відпрацюємо з вами знання, отримані в модулі зі статистики.\n",
        "\n",
        "**Завдання 1.** Ми обговорили з Вами на лекції, що велика літера Сігма грецького алфавіту позначає в математиці суму. Знайдіть з використанням Python $\\Sigma x$, $\\Sigma x^2$, та $\\Sigma (x-1)^2$ для наступного набору даних:\n",
        "`1 3 4`\n",
        "Виведіть результат кожного обчислення на екран."
      ],
      "metadata": {
        "id": "SDhaTqxcWhnP"
      }
    },
    {
      "cell_type": "code",
      "source": [
        "import numpy as np"
      ],
      "metadata": {
        "id": "9vDGb3wiRO0r"
      },
      "execution_count": 1,
      "outputs": []
    },
    {
      "cell_type": "code",
      "source": [
        "num = [1,3,4]\n",
        "sum_of_num = sum(x**2 for x in num)\n",
        "sum_x = sum((x-1)**2 for x in num)\n",
        "print(sum(num))\n",
        "print(sum_of_num)\n",
        "print(sum_x)"
      ],
      "metadata": {
        "id": "bQxdnschGAi4",
        "colab": {
          "base_uri": "https://localhost:8080/"
        },
        "outputId": "eb2d4d0c-c9c2-4c48-c7b6-6e12bed16849"
      },
      "execution_count": 3,
      "outputs": [
        {
          "output_type": "stream",
          "name": "stdout",
          "text": [
            "8\n",
            "26\n",
            "13\n"
          ]
        }
      ]
    },
    {
      "cell_type": "markdown",
      "source": [
        "**Завдання 2.** Ми зібрали дані про суму покупок в гривнях 20ма випадково обраними клієнтами в нашому магазині (всього клієнтів у нас більше) за минулий місяць. Вони представлені в змінній `sum_purchases`. Знайдіть **вибіркове середнє** для цих даних кожним з зазначених методів:   \n",
        "\n",
        "  2.1. без використання жодних бібліотек, користуючись тільки Python.  \n",
        "  2.2. використовуючи відповідний метод бібліотеки `numpy`.\n",
        "\n",
        "  Виведіть результат обчислень в кожному з випадків на екран та порівняйте результати. Вони співпадають?"
      ],
      "metadata": {
        "id": "fa78aW5lhiia"
      }
    },
    {
      "cell_type": "code",
      "execution_count": 4,
      "metadata": {
        "id": "_9kMt3rq6V5m",
        "colab": {
          "base_uri": "https://localhost:8080/"
        },
        "outputId": "d1f4e6dc-4b2f-4ff9-fc8c-73fc808271d7"
      },
      "outputs": [
        {
          "output_type": "stream",
          "name": "stdout",
          "text": [
            "667.95\n",
            "667.95\n"
          ]
        }
      ],
      "source": [
        "sum_purchases = [ 316,  493,  367,  153,  224,  121,  322,  450,  196,  397,  281,\n",
        "  239,  484,  124,  223,  448,  432,  255, 4310, 3524]\n",
        "mean_of = sum(sum_purchases)/len(sum_purchases)\n",
        "print(mean_of)\n",
        "mean_sum_purchases = np.mean(sum_purchases)\n",
        "print(mean_sum_purchases)"
      ]
    },
    {
      "cell_type": "markdown",
      "source": [
        "**Завдання 3.** Для того ж набору даних в змінній `sum_purchases` обчисліть **медіану** кожним з зазначених методів:  \n",
        "\n",
        "  3.1. без використання жодних бібліотек, користуючись тільки Python.  \n",
        "  3.2. використовуючи відповідний метод бібліотеки numpy.  \n",
        "\n",
        "Виведіть результат обчислень в кожному з випадків на екран. Порівняйте результати зі значенням вибіркового середнього. Напишіть коментар, для яких задач ви б використовували вибіркове середнє, а для яких - медіану?"
      ],
      "metadata": {
        "id": "FMdoxZd0kZdW"
      }
    },
    {
      "cell_type": "code",
      "source": [
        "median_of = (sorted(sum_purchases)[len(sum_purchases)//2 - 1] + sorted(sum_purchases)[len(sum_purchases)//2]) / 2\n",
        "print(median_of)\n",
        "np.median(sum_purchases)"
      ],
      "metadata": {
        "id": "x58BumvuT2nl",
        "colab": {
          "base_uri": "https://localhost:8080/"
        },
        "outputId": "bdace450-e075-472f-f6cf-40c502b4c739"
      },
      "execution_count": 6,
      "outputs": [
        {
          "output_type": "stream",
          "name": "stdout",
          "text": [
            "319.0\n"
          ]
        },
        {
          "output_type": "execute_result",
          "data": {
            "text/plain": [
              "319.0"
            ]
          },
          "metadata": {},
          "execution_count": 6
        }
      ]
    },
    {
      "cell_type": "markdown",
      "source": [
        "**Завдання 4**. Обчислість стандартне відхилення наведеної вибірки в змінній `sum_purchases` кожним з зазначених методів:  \n",
        "\n",
        "  4.1. без використання жодних бібліотек, користуючись тільки Python.  \n",
        "  4.2. використовуючи відповідний метод бібліотеки numpy.  \n",
        "\n",
        "Виведіть результат обчислень в кожному з випадків на екран."
      ],
      "metadata": {
        "id": "o1Z7az2yNDQV"
      }
    },
    {
      "cell_type": "code",
      "source": [
        "sum_purchases = [ 316,  493,  367,  153,  224,  121,  322,  450,  196,  397,  281,\n",
        "  239,  484,  124,  223,  448,  432,  255, 4310, 3524]"
      ],
      "metadata": {
        "id": "X4ixtmL2T642"
      },
      "execution_count": 39,
      "outputs": []
    },
    {
      "cell_type": "code",
      "source": [
        "sum_purchases_minus_mean = [(el - mean_sum_purchases)**2 for el in sum_purchases]\n",
        "std_sum_purchases_general = np.sqrt(sum(sum_purchases_minus_mean)/len(sum_purchases))\n",
        "std_sum_purchases_sample = np.sqrt(sum(sum_purchases_minus_mean)/(len(sum_purchases)-1))"
      ],
      "metadata": {
        "id": "BAlYvr3uTs2Z"
      },
      "execution_count": 47,
      "outputs": []
    },
    {
      "cell_type": "code",
      "source": [
        "std_sum_purchases_general, std_sum_purchases_sample"
      ],
      "metadata": {
        "colab": {
          "base_uri": "https://localhost:8080/"
        },
        "id": "92oQ0jN8Uu3p",
        "outputId": "6b74d6e6-4053-462a-9664-65fe10e17d7e"
      },
      "execution_count": 48,
      "outputs": [
        {
          "output_type": "execute_result",
          "data": {
            "text/plain": [
              "(1096.0692713054227, 1124.5433447451132)"
            ]
          },
          "metadata": {},
          "execution_count": 48
        }
      ]
    },
    {
      "cell_type": "code",
      "source": [
        "np.std(sum_purchases)"
      ],
      "metadata": {
        "colab": {
          "base_uri": "https://localhost:8080/"
        },
        "id": "QbjttULpSXF-",
        "outputId": "da159776-4463-49a9-9f5b-d5c8d6d6de9f"
      },
      "execution_count": 42,
      "outputs": [
        {
          "output_type": "execute_result",
          "data": {
            "text/plain": [
              "1096.0692713054227"
            ]
          },
          "metadata": {},
          "execution_count": 42
        }
      ]
    },
    {
      "cell_type": "markdown",
      "source": [
        "**Завдання 5**. Ми провели дослідження віку студентів-першокурсників. Виявилось, що\n",
        "- 10 студентів мають вік 16 років\n",
        "- 25 студентів - 17 років\n",
        "- 20 студентів - 18 років\n",
        "- 2 студенти - 20 років\n",
        "\n",
        "Обчислість середнє значення для цієї вибірки будь-яким способом - на чистому Python або з numpy - та виведіть результат на екран."
      ],
      "metadata": {
        "id": "M1ntKTjXLVlH"
      }
    },
    {
      "cell_type": "code",
      "source": [
        "students_16 = 16 * 10\n",
        "students_17 = 17 * 25\n",
        "students_18 = 18 * 20\n",
        "students_20 = 20 * 2\n",
        "\n",
        "total_students = 10 + 25 + 20 + 2\n",
        "\n",
        "mean_age = (students_16 + students_17 + students_18 + students_20) / total_students\n",
        "\n",
        "\n"
      ],
      "metadata": {
        "id": "RdIU4M-7T8R4"
      },
      "execution_count": 59,
      "outputs": []
    },
    {
      "cell_type": "code",
      "source": [
        "print(f\"Середній вік студентів: {mean_age}\")"
      ],
      "metadata": {
        "colab": {
          "base_uri": "https://localhost:8080/"
        },
        "id": "yN5pemmUWdAR",
        "outputId": "cbd6cd70-1962-4dca-8f96-98889249fa3a"
      },
      "execution_count": 60,
      "outputs": [
        {
          "output_type": "stream",
          "name": "stdout",
          "text": [
            "Середній вік студентів: 17.280701754385966\n"
          ]
        }
      ]
    },
    {
      "cell_type": "markdown",
      "source": [
        "**Завдання 6**. Крім даних про суму покупок, ми зібрали ще дані про кількість відвідувань кожного з кожного покупця, які знаходяться в змінній `visits`. Обчисліть коефіцієнт кореляції Пірсона для суми покупок і кількості відвідувань кожним з зазначених методів:  \n",
        "\n",
        "  6.1. без використання жодних бібліотек, користуючись тільки Python.  \n",
        "  6.2. використовуючи відповідний метод бібліотеки numpy.  \n",
        "  \n",
        "Виведіть результат на екран. Проаналізуйте результат.\n",
        "\n",
        "Виведіть додатково графік розсіювання викликавши код нижче і зробіть заключення, чи варто щось змінити при підрахунку кореляції, аби коефіцієнт Пірсона показував коректну оцінку лінійної залежності?"
      ],
      "metadata": {
        "id": "Xx8MFkkVM53z"
      }
    },
    {
      "cell_type": "code",
      "source": [
        "visits = [ 6,  2, 10,  3,  9,  9,  2,  3,  6,  6, 10,  2,  5, 10,  3,  5,  4,\n",
        "        7,  4,  2]"
      ],
      "metadata": {
        "id": "3uu68KubN4ka"
      },
      "execution_count": 9,
      "outputs": []
    },
    {
      "cell_type": "code",
      "source": [
        "sum_purchases = [316, 493, 367, 153, 224, 121, 322, 450, 196, 397,\n",
        "                 281, 239, 484, 124, 223, 448, 432, 255, 4310, 3524]\n",
        "visits = [6, 2, 10, 3, 9, 9, 2, 3, 6, 6, 10, 2, 5, 10, 3, 5, 4, 7, 4, 2]\n",
        "\n",
        "mean_purchases = sum(sum_purchases) / len(sum_purchases)\n",
        "mean_visits = sum(visits) / len(visits)\n",
        "\n",
        "cov_xy = sum((sum_purchases[i] - mean_purchases) * (visits[i] - mean_visits) for i in range(len(sum_purchases))) / (len(sum_purchases) - 1)\n",
        "\n",
        "std_purchases = (sum((x - mean_purchases)**2 for x in sum_purchases) / (len(sum_purchases) - 1))**0.5\n",
        "std_visits = (sum((x - mean_visits)**2 for x in visits) / (len(visits) - 1))**0.5\n",
        "\n",
        "pearson_corr = cov_xy / (std_purchases * std_visits)\n",
        "print(\"Коефіцієнт кореляції Пірсона (без бібліотек):\", pearson_corr)\n",
        "\n",
        "import numpy as np\n",
        "pearson_corr_np = np.corrcoef(sum_purchases, visits)[0, 1]\n",
        "print(\"Коефіцієнт кореляції Пірсона (з numpy):\", pearson_corr_np)\n",
        "\n",
        "\n",
        "import matplotlib.pyplot as plt\n",
        "\n",
        "plt.scatter(sum_purchases, visits)\n",
        "plt.title('Scatter Plot of Purchases vs. Visits')\n",
        "plt.xlabel('Sum of Purchases')\n",
        "plt.ylabel('Number of Visits');\n"
      ],
      "metadata": {
        "colab": {
          "base_uri": "https://localhost:8080/",
          "height": 506
        },
        "id": "iG-lpBHMNB1_",
        "outputId": "0572b89b-9191-4683-d733-8f4c0bf78dfb"
      },
      "execution_count": 12,
      "outputs": [
        {
          "output_type": "stream",
          "name": "stdout",
          "text": [
            "Коефіцієнт кореляції Пірсона (без бібліотек): -0.3026584468766646\n",
            "Коефіцієнт кореляції Пірсона (з numpy): -0.3026584468766646\n"
          ]
        },
        {
          "output_type": "display_data",
          "data": {
            "text/plain": [
              "<Figure size 640x480 with 1 Axes>"
            ],
            "image/png": "[encoded data removed]"
          },
          "metadata": {}
        }
      ]
    },
    {
      "cell_type": "code",
      "source": [
        "# дані викиди суттєво впливають на коефіцієнт кореляції Пірсона, потрібно провести додатковий аналіз"
      ],
      "metadata": {
        "id": "0IPh-SPMp__g"
      },
      "execution_count": null,
      "outputs": []
    },
    {
      "cell_type": "markdown",
      "source": [
        "**Завдання 7**. В попередньому завданні ми помітили, що викиди нам заважають отримати \"правдиве\" значення кореляції. Давайте вилучимо записи, які відповідають значенням з викидами в сумі покупок і обчисліть коеф. кореляції. Для цього поставте `threshold`, який дорінює середньому значенню + 2 стандартних вдіхилля суми покупок і всі значення, які більше за нього, будемо вважати викидами (є і інші правила для визначення викидів - з ним и познайомимось пізніше).\n",
        "\n",
        "Вилучіть значення з обох масивів і обчисліть коеф. кореляції Пірсона з допомогою `numpy` для кількості візитів і суми покупок без записів-викидів. Виведіть результат на екран, побудуйте діаграму розсіювання і проаналізуйте результат: що можемо сказати про залежність в даних?"
      ],
      "metadata": {
        "id": "4pEg0KzSQ6KA"
      }
    },
    {
      "cell_type": "code",
      "source": [
        "\n",
        "threshold = mean_purchases + 2 * std_purchases\n",
        "\n",
        "filtered_data = [(sum_purchases[i], visits[i]) for i in range(len(sum_purchases)) if sum_purchases[i] <= threshold]\n",
        "filtered_purchases, filtered_visits = zip(*filtered_data)\n",
        "\n",
        "filtered_corr = np.corrcoef(filtered_purchases, filtered_visits)[0, 1]\n",
        "print(\"Коефіцієнт кореляції Пірсона (без викидів):\", filtered_corr)\n",
        "\n",
        "plt.scatter(filtered_visits, filtered_purchases)\n",
        "plt.xlabel(\"Кількість відвідувань\")\n",
        "plt.ylabel(\"Сума покупок\")\n",
        "plt.title(\"Графік розсіювання: сума покупок vs кількість відвідувань (без викидів)\")\n",
        "plt.show()\n"
      ],
      "metadata": {
        "id": "Yj3Yfaf7UBbc",
        "colab": {
          "base_uri": "https://localhost:8080/",
          "height": 489
        },
        "outputId": "e7db56b7-e0a1-41a6-c83b-8daa19efd412"
      },
      "execution_count": 14,
      "outputs": [
        {
          "output_type": "stream",
          "name": "stdout",
          "text": [
            "Коефіцієнт кореляції Пірсона (без викидів): -0.3685212078127798\n"
          ]
        },
        {
          "output_type": "display_data",
          "data": {
            "text/plain": [
              "<Figure size 640x480 with 1 Axes>"
            ],
            "image/png": "[encoded data removed]"
          },
          "metadata": {}
        }
      ]
    },
    {
      "cell_type": "code",
      "source": [
        "# Видалення викидів покращує точність оцінки кореляції, тому для подальшого аналізу важливо контролювати їхній вплив.\n",
        "# Дані демонструють слабку  залежність: збільшення кількості візитів не завжди приводить до збільшення суми покупок\n"
      ],
      "metadata": {
        "id": "uVJvUOu3rFVi"
      },
      "execution_count": null,
      "outputs": []
    }
  ]
}